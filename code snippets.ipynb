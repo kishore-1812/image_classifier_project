{
 "cells": [
  {
   "cell_type": "code",
   "execution_count": 1,
   "metadata": {},
   "outputs": [],
   "source": [
    "##ASSIGNING ELEMENTS TO DIFFERENT LISTS"
   ]
  },
  {
   "cell_type": "code",
   "execution_count": null,
   "metadata": {},
   "outputs": [],
   "source": [
    "list1=[] #getting an empty list1\n",
    "list2=[] #getting an another empty list2\n",
    "while True:\n",
    "    a=input(\"enter the element to be added: \") #asking the user for value which to be added in the list\n",
    "    if(a=='end'):\n",
    "        break\n",
    "    else:\n",
    "        #asking the user for input which to be checked whether the input matches the given list\n",
    "        get_name =input(\"enter which list: \") \n",
    "        if(get_name == \"list1\"):\n",
    "            list1.append(a)  #adding value to the list \n",
    "        elif(get_name == \"list2\"):\n",
    "            list2.append(a)  #adding value to the list\n",
    "        else:\n",
    "            #printing the msg in case if the user input doesn't matches with the created empty list\n",
    "            print(\"please enter a valid list name\")\n",
    "\n",
    "print(\"list1:\",list1)\n",
    "print(\"list2:\",list2)"
   ]
  },
  {
   "cell_type": "code",
   "execution_count": null,
   "metadata": {},
   "outputs": [],
   "source": [
    "##ACCESING ELEMENTS FROM A TUPLE"
   ]
  },
  {
   "cell_type": "code",
   "execution_count": 4,
   "metadata": {},
   "outputs": [
    {
     "name": "stdout",
     "output_type": "stream",
     "text": [
      "enter the length of a tuple: 4\n",
      "enter the elemens to be added: hello \n",
      "enter the elemens to be added: micheal\n",
      "enter the elemens to be added: how you doin\n",
      "enter the elemens to be added: 1\n",
      "enter the position to be accessed: 1\n",
      "the element in the position 1 is micheal\n"
     ]
    }
   ],
   "source": [
    "length=int(input(\"enter the length of a tuple: \")) #getting the length of the tuple\n",
    "templst=[] #creating a temporary list\n",
    "#iterating over length\n",
    "for i in range(length):\n",
    "    element=input(\"enter the elemens to be added: \")\n",
    "    #adding elements to the list\n",
    "    templst.append(element)\n",
    "#converting the temporary list into tuple\n",
    "tuple1=tuple(templst)\n",
    "while True:\n",
    "    position_access=int(input(\"enter the position to be accessed: \"))\n",
    "    #checking if the access value is greater than the given length of tuple\n",
    "    if(position_access >= length):\n",
    "        print(\"invalid access\")\n",
    "    else:\n",
    "        print(f\"the element in the position {position_access} is {tuple1[position_access]}\")\n",
    "        break"
   ]
  },
  {
   "cell_type": "code",
   "execution_count": null,
   "metadata": {},
   "outputs": [],
   "source": [
    "##DELETING THE DIFFERENT ELEMENTS FROM DICTIONARY"
   ]
  },
  {
   "cell_type": "code",
   "execution_count": 5,
   "metadata": {},
   "outputs": [
    {
     "name": "stdout",
     "output_type": "stream",
     "text": [
      "enter the no of elements: 5\n",
      "enter the key: micheal\n",
      "enter the value: boss\n",
      "enter the key: dwight\n",
      "enter the value: my ass\n",
      "enter the key: jim\n",
      "enter the value: simp\n",
      "enter the key: pam\n",
      "enter the value: cutie\n",
      "enter the key: jim\n",
      "enter the value: jim\n",
      "the dictionary is {'micheal': 'boss', 'dwight': 'my ass', 'jim': 'jim', 'pam': 'cutie'}\n",
      "enter no of elements to be deleted: 2\n",
      "enter the key to be deleted: jim\n",
      "enter the key to be deleted: jim\n",
      "invalid key\n",
      "the final elements in the dictionary {'micheal': 'boss', 'dwight': 'my ass', 'pam': 'cutie'}\n"
     ]
    }
   ],
   "source": [
    "dict1={} #creating a empty dictionary\n",
    "n=int(input(\"enter the no of elements: \"))\n",
    "for i in range(n):\n",
    "    key=input(\"enter the key: \")\n",
    "    value=input(\"enter the value: \")\n",
    "    dict1[key]=value\n",
    "print(f\"the dictionary is {dict1}\")\n",
    "while True:\n",
    "    numofele=int(input(\"enter no of elements to be deleted: \"))\n",
    "    if(numofele >= n):\n",
    "        print(f\"please enter a number below {n}\")\n",
    "    else:\n",
    "        break\n",
    "while(numofele!=0):\n",
    "    dkey=input(\"enter the key to be deleted: \")\n",
    "    if dkey not in dict1.keys():\n",
    "        print(\"invalid key\")\n",
    "    else:\n",
    "        dict1.pop(dkey)\n",
    "    numofele=numofele-1\n",
    "print(f\"the final elements in the dictionary {dict1}\")"
   ]
  },
  {
   "cell_type": "code",
   "execution_count": null,
   "metadata": {},
   "outputs": [],
   "source": []
  }
 ],
 "metadata": {
  "kernelspec": {
   "display_name": "Python 3",
   "language": "python",
   "name": "python3"
  },
  "language_info": {
   "codemirror_mode": {
    "name": "ipython",
    "version": 3
   },
   "file_extension": ".py",
   "mimetype": "text/x-python",
   "name": "python",
   "nbconvert_exporter": "python",
   "pygments_lexer": "ipython3",
   "version": "3.7.6"
  }
 },
 "nbformat": 4,
 "nbformat_minor": 4
}
