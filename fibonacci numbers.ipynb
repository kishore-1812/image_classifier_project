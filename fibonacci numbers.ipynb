{
 "cells": [
  {
   "cell_type": "code",
   "execution_count": 7,
   "metadata": {},
   "outputs": [
    {
     "name": "stdout",
     "output_type": "stream",
     "text": [
      "Enter upto how many term:20\n",
      "FIBONACCI NUMBERS:\n",
      "0\n",
      "1\n",
      "1\n",
      "2\n",
      "3\n",
      "5\n",
      "8\n",
      "13\n",
      "21\n",
      "34\n",
      "55\n",
      "89\n",
      "144\n",
      "233\n",
      "377\n",
      "610\n",
      "987\n",
      "1597\n",
      "2584\n",
      "4181\n"
     ]
    }
   ],
   "source": [
    "get_input=int(input(\"Enter upto how many term:\"))\n",
    "num1=0;num2=1\n",
    "count=0\n",
    "if(get_input<=0):\n",
    "    print(\"enter a term greater than 0\\n\")\n",
    "elif(get_input==1):\n",
    "    print(num1)\n",
    "else:\n",
    "    print(\"FIBONACCI NUMBERS:\")\n",
    "    while(count<get_input):\n",
    "        print(num1)\n",
    "        fnum=num1+num2\n",
    "        #updating the values for the following term\n",
    "        num1=num2\n",
    "        num2=fnum\n",
    "        count=count+1\n"
   ]
  },
  {
   "cell_type": "code",
   "execution_count": null,
   "metadata": {},
   "outputs": [],
   "source": []
  }
 ],
 "metadata": {
  "kernelspec": {
   "display_name": "Python 3",
   "language": "python",
   "name": "python3"
  },
  "language_info": {
   "codemirror_mode": {
    "name": "ipython",
    "version": 3
   },
   "file_extension": ".py",
   "mimetype": "text/x-python",
   "name": "python",
   "nbconvert_exporter": "python",
   "pygments_lexer": "ipython3",
   "version": "3.7.6"
  }
 },
 "nbformat": 4,
 "nbformat_minor": 4
}
